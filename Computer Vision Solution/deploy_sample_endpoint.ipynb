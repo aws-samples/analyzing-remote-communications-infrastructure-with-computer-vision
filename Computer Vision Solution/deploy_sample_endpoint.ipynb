{
 "cells": [
  {
   "cell_type": "markdown",
   "metadata": {},
   "source": [
    "# Deploy your model on a SageMaker Endpoint and visualize predictions\n",
    "\n",
    "This notebook will deploy an already trained TensorFlow Object Detection model that recognizes bees from RGB images. Model training results are stored in the provided model.tar.gz file. The original training used a sample dataset from inaturalist.org containing 500 images uploaded by inaturalist users. All images were uploaded under CC0 license.\n",
    "\n",
    "The code and training was adapted from the following repository: https://github.com/aws-samples/amazon-sagemaker-tensorflow-object-detection-api\n",
    "\n",
    "The related AWS blog post can be found here: https://aws.amazon.com/blogs/machine-learning/training-and-deploying-models-using-tensorflow-2-with-the-object-detection-api-on-amazon-sagemaker/"
   ]
  },
  {
   "cell_type": "markdown",
   "metadata": {},
   "source": [
    "## Setup environment"
   ]
  },
  {
   "cell_type": "code",
   "execution_count": null,
   "metadata": {},
   "outputs": [],
   "source": [
    "!pip install -q --upgrade pip\n",
    "!pip install -q sagemaker==2.96.0\n",
    "!pip install -q jsonlines"
   ]
  },
  {
   "cell_type": "code",
   "execution_count": null,
   "metadata": {},
   "outputs": [],
   "source": [
    "import cv2\n",
    "import sagemaker\n",
    "import numpy as np\n",
    "import matplotlib.pyplot as plt\n",
    "from sagemaker import get_execution_role\n",
    "from sagemaker.utils import name_from_base\n",
    "from sagemaker.tensorflow import TensorFlowModel\n",
    "role = sagemaker.get_execution_role()\n",
    "model_artefact = 'S3 URI of the provided model.tar.gz file' # s3://BUCKETNAME/model.tar.gz"
   ]
  },
  {
   "cell_type": "markdown",
   "metadata": {},
   "source": [
    "## Create endpoint\n",
    "\n",
    "Note: depending on your region, the ml.m5.xlarge instance may not be available. If that's the case and you get an error, try a similar instance. For example, ml.g5.2xlarge"
   ]
  },
  {
   "cell_type": "code",
   "execution_count": null,
   "metadata": {},
   "outputs": [],
   "source": [
    "model = TensorFlowModel(\n",
    "    name=name_from_base('tf2-object-detection'),\n",
    "    model_data=model_artefact,\n",
    "    role=role,\n",
    "    framework_version='2.8'\n",
    ")"
   ]
  },
  {
   "cell_type": "code",
   "execution_count": null,
   "metadata": {},
   "outputs": [],
   "source": [
    "predictor = model.deploy(initial_instance_count=1, instance_type='ml.m5.xlarge').update_endpoint()"
   ]
  },
  {
   "cell_type": "markdown",
   "metadata": {},
   "source": [
    "Once the above cell is completed, in the AWS console, you should be able to navigate to: Amazon SageMaker > Inference > Endpoints and see a running endpoint."
   ]
  },
  {
   "cell_type": "markdown",
   "metadata": {},
   "source": [
    "## Delete endpoint"
   ]
  },
  {
   "cell_type": "code",
   "execution_count": null,
   "metadata": {},
   "outputs": [],
   "source": [
    "# sagemaker.Session().delete_endpoint(predictor.endpoint)"
   ]
  }
 ],
 "metadata": {
  "kernelspec": {
   "display_name": "Python 3",
   "language": "python",
   "name": "python3"
  },
  "language_info": {
   "codemirror_mode": {
    "name": "ipython",
    "version": 3
   },
   "file_extension": ".py",
   "mimetype": "text/x-python",
   "name": "python",
   "nbconvert_exporter": "python",
   "pygments_lexer": "ipython3",
   "version": "3.10.9 (tags/v3.10.9:1dd9be6, Dec  6 2022, 20:01:21) [MSC v.1934 64 bit (AMD64)]"
  },
  "vscode": {
   "interpreter": {
    "hash": "2df4255f5f540b2cff6344cf9130a9e32414a5f0c439a709b25ae5bbf997635c"
   }
  }
 },
 "nbformat": 4,
 "nbformat_minor": 4
}
